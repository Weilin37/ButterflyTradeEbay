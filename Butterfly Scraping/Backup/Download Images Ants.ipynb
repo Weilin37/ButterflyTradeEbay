{
 "cells": [
  {
   "cell_type": "code",
   "execution_count": 1,
   "metadata": {},
   "outputs": [],
   "source": [
    "import pandas as pd\n",
    "from os import listdir\n",
    "from os.path import isfile, join\n",
    "import requests\n",
    "from tqdm import tqdm"
   ]
  },
  {
   "cell_type": "code",
   "execution_count": 2,
   "metadata": {},
   "outputs": [],
   "source": [
    "data = pd.read_csv(\"all_ant_sales.tsv\", sep='\\t')"
   ]
  },
  {
   "cell_type": "code",
   "execution_count": 3,
   "metadata": {},
   "outputs": [
    {
     "name": "stderr",
     "output_type": "stream",
     "text": [
      "100%|██████████| 927/927 [21:23<00:00,  1.38s/it]\n"
     ]
    }
   ],
   "source": [
    "for index, row in tqdm(data.iterrows(), total=data.shape[0]):\n",
    "    try:\n",
    "        image_url = row['picture']\n",
    "        if 'https' in image_url:\n",
    "            image_url = image_url.replace('https:','https://')\n",
    "        else:\n",
    "            image_url = 'https://'+image_url\n",
    "            \n",
    "        image_url = image_url.split('.jpg_')\n",
    "        image_url = image_url[0]+'.jpg'\n",
    "        id = row['id']\n",
    "        response = requests.get(image_url)\n",
    "\n",
    "        save_path = 'Ant Images/'+str(id)+'.jpg'\n",
    "        image_file = open(save_path, \"wb\")\n",
    "        image_file.write(response.content)\n",
    "        image_file.close()\n",
    "    except:\n",
    "        print(image_url)"
   ]
  },
  {
   "cell_type": "code",
   "execution_count": null,
   "metadata": {},
   "outputs": [],
   "source": []
  }
 ],
 "metadata": {
  "kernelspec": {
   "display_name": "Python 3",
   "language": "python",
   "name": "python3"
  },
  "language_info": {
   "codemirror_mode": {
    "name": "ipython",
    "version": 3
   },
   "file_extension": ".py",
   "mimetype": "text/x-python",
   "name": "python",
   "nbconvert_exporter": "python",
   "pygments_lexer": "ipython3",
   "version": "3.8.5"
  }
 },
 "nbformat": 4,
 "nbformat_minor": 4
}
