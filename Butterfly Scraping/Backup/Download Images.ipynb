{
 "cells": [
  {
   "cell_type": "code",
   "execution_count": 1,
   "metadata": {},
   "outputs": [],
   "source": [
    "import pandas as pd\n",
    "from os import listdir\n",
    "from os.path import isfile, join\n",
    "import requests"
   ]
  },
  {
   "cell_type": "code",
   "execution_count": 2,
   "metadata": {},
   "outputs": [],
   "source": [
    "mypath = \"Butterfly/current sales\"\n",
    "files = [mypath+'/'+f for f in listdir(mypath) if isfile(join(mypath, f))]"
   ]
  },
  {
   "cell_type": "code",
   "execution_count": 3,
   "metadata": {},
   "outputs": [
    {
     "name": "stdout",
     "output_type": "stream",
     "text": [
      "Butterfly/current sales/current_sales_Hypolimnas pandarus.csv\n",
      "Butterfly/current sales/current_sales_Ithomia diasia.csv\n",
      "Butterfly/current sales/current_sales_Argynnis aglaja.csv\n",
      "Butterfly/current sales/current_sales_Satyrites reynesii.csv\n",
      "Butterfly/current sales/current_sales_Troides richmondia.csv\n",
      "Butterfly/current sales/current_sales_Limenitis populi.csv\n",
      "Butterfly/current sales/current_sales_Propertius propertius.csv\n",
      "Butterfly/current sales/current_sales_Aroma aroma.csv\n",
      "Butterfly/current sales/current_sales_Saturnus saturnus.csv\n"
     ]
    }
   ],
   "source": [
    "for file in files:\n",
    "    if '.DS_Store' in file:\n",
    "        continue\n",
    "    try:\n",
    "        data = pd.read_csv(file)\n",
    "    except:\n",
    "        print(file)\n",
    "    species = file.split('_')[2].split('.')[0]\n",
    "    # loop through data\n",
    "    for index, row in data.iterrows():\n",
    "        try:\n",
    "            id = row['id']\n",
    "            image_url = row['image']\n",
    "            response = requests.get(image_url)\n",
    "\n",
    "            save_path = mypath+'/images/'+species+'_'+id+'.jpg'\n",
    "            image_file = open(save_path, \"wb\")\n",
    "            image_file.write(response.content)\n",
    "            image_file.close()\n",
    "        except:\n",
    "            print(file)"
   ]
  },
  {
   "cell_type": "code",
   "execution_count": null,
   "metadata": {},
   "outputs": [],
   "source": []
  }
 ],
 "metadata": {
  "kernelspec": {
   "display_name": "Python 3",
   "language": "python",
   "name": "python3"
  },
  "language_info": {
   "codemirror_mode": {
    "name": "ipython",
    "version": 3
   },
   "file_extension": ".py",
   "mimetype": "text/x-python",
   "name": "python",
   "nbconvert_exporter": "python",
   "pygments_lexer": "ipython3",
   "version": "3.8.5"
  }
 },
 "nbformat": 4,
 "nbformat_minor": 4
}
