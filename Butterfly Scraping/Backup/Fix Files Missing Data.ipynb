{
 "cells": [
  {
   "cell_type": "code",
   "execution_count": 25,
   "id": "5a5b9954",
   "metadata": {},
   "outputs": [],
   "source": [
    "import pandas as pd\n",
    "from os import listdir\n",
    "from os.path import isfile, join\n",
    "from tqdm import tqdm\n",
    "import requests\n",
    "from bs4 import BeautifulSoup"
   ]
  },
  {
   "cell_type": "code",
   "execution_count": 26,
   "id": "1ba45099",
   "metadata": {},
   "outputs": [],
   "source": [
    "mypath = \"NewList7/current sales\"\n",
    "files = [mypath+'/'+f for f in listdir(mypath) if isfile(join(mypath, f))]\n",
    "files.sort()\n",
    "files = files[0:100]\n"
   ]
  },
  {
   "cell_type": "code",
   "execution_count": 27,
   "id": "bca8d4f6",
   "metadata": {},
   "outputs": [
    {
     "name": "stderr",
     "output_type": "stream",
     "text": [
      " 53%|█████▎    | 53/100 [1:35:00<51:20, 65.55s/it]   "
     ]
    },
    {
     "name": "stdout",
     "output_type": "stream",
     "text": [
      "no image\n",
      "https://www.ebay.com/itm/334011194695?epid=22036981593&hash=item4dc49e5d47:g:DfwAAOSw~TJgqm3e\n"
     ]
    },
    {
     "name": "stderr",
     "output_type": "stream",
     "text": [
      "100%|██████████| 100/100 [1:47:15<00:00, 64.36s/it]  \n"
     ]
    }
   ],
   "source": [
    "for file in tqdm(files):\n",
    "    if '.csv' not in file:\n",
    "        continue\n",
    "    try:\n",
    "        data = pd.read_csv(file)\n",
    "    except:\n",
    "        print(file)\n",
    "\n",
    "    # loop through data\n",
    "    #for index, row in tqdm(data.iterrows(), total=data.shape[0]):\n",
    "    for index, row in data.iterrows():\n",
    "        link = row['link']\n",
    "        \n",
    "        # Detailed Scraping\n",
    "        try:\n",
    "            deeper_info = BeautifulSoup(requests.get(link).content, 'html.parser')\n",
    "        except:\n",
    "            print(\"couldnt scrap\")\n",
    "            print(link)\n",
    "            continue\n",
    "\n",
    "        # Get image link\n",
    "        try:\n",
    "            image = deeper_info.find('img', id='icImg').get('src')\n",
    "        except:\n",
    "            try:\n",
    "                image = deeper_info.find_all('img', class_='img')[0].get('src')\n",
    "            except:\n",
    "                print(\"no image\")\n",
    "                print(link)\n",
    "                image = 'NA'\n",
    "\n",
    "        # Get sales type\n",
    "        try:\n",
    "            num_bids = deeper_info.find('a', id='vi-VR-bid-lnk').find('span', id='qty-test').text.strip()\n",
    "            sell_type = 'Auction'\n",
    "            num_stock = 1\n",
    "        except:\n",
    "            try:\n",
    "                num_bids = deeper_info.find('span', id='qty-test').text.strip()\n",
    "                sell_type = 'Auction'\n",
    "                num_stock = 1\n",
    "            except:\n",
    "                sell_type = 'Instant'\n",
    "                num_bids = 0\n",
    "                try:\n",
    "                    num_stock = deeper_info.find('span', id='qtySubTxt').find_all('span')[0].text.strip().replace(' available','')\n",
    "                except:\n",
    "                    num_stock = 1\n",
    "\n",
    "\n",
    "        # save data\n",
    "        data.loc[index,'image'] = image\n",
    "        data.loc[index, 'sell_type'] = sell_type\n",
    "        data.loc[index, 'num_bids'] = num_bids\n",
    "        data.loc[index, 'num_stock'] = num_stock\n",
    "    \n",
    "    data.to_csv(file,index=False)"
   ]
  },
  {
   "cell_type": "code",
   "execution_count": null,
   "id": "cf60a809",
   "metadata": {},
   "outputs": [],
   "source": []
  }
 ],
 "metadata": {
  "kernelspec": {
   "display_name": "conda_python3",
   "language": "python",
   "name": "conda_python3"
  },
  "language_info": {
   "codemirror_mode": {
    "name": "ipython",
    "version": 3
   },
   "file_extension": ".py",
   "mimetype": "text/x-python",
   "name": "python",
   "nbconvert_exporter": "python",
   "pygments_lexer": "ipython3",
   "version": "3.6.13"
  }
 },
 "nbformat": 4,
 "nbformat_minor": 5
}
