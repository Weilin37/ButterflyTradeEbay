{
 "cells": [
  {
   "cell_type": "code",
   "execution_count": 1,
   "metadata": {},
   "outputs": [],
   "source": [
    "from PIL import Image\n",
    "import glob\n",
    "import matplotlib.pyplot as plt\n",
    "from keras.preprocessing.image import load_img \n",
    "import numpy as np\n",
    "from tqdm import tqdm\n",
    "import pandas as pd"
   ]
  },
  {
   "cell_type": "code",
   "execution_count": 2,
   "metadata": {},
   "outputs": [],
   "source": [
    "# Get file paths for images\n",
    "images = glob.glob('images' + '/**/*.png', recursive=True)"
   ]
  },
  {
   "cell_type": "code",
   "execution_count": 3,
   "metadata": {},
   "outputs": [
    {
     "name": "stderr",
     "output_type": "stream",
     "text": [
      "100%|████████████████████████████████████████████████████████████████████████████████| 830/830 [05:20<00:00,  2.59it/s]\n"
     ]
    }
   ],
   "source": [
    "## Remove backgrund transparency\n",
    "for image in tqdm(images):\n",
    "    png = Image.open(image).convert('RGBA')\n",
    "    background = Image.new('RGBA', png.size, (255,255,255))\n",
    "\n",
    "    alpha_composite = Image.alpha_composite(background, png)\n",
    "    alpha_composite.save(image, 'png', quality=95)"
   ]
  },
  {
   "cell_type": "code",
   "execution_count": 4,
   "metadata": {},
   "outputs": [
    {
     "name": "stderr",
     "output_type": "stream",
     "text": [
      "100%|████████████████████████████████████████████████████████████████████████████████| 830/830 [05:48<00:00,  2.38it/s]\n"
     ]
    }
   ],
   "source": [
    "## crop images to its minimum boundary size\n",
    "def bbox(im):\n",
    "    a = np.array(im)[:,:,:3]  # keep RGB only\n",
    "    m = np.any(a != [255, 255, 255], axis=2)\n",
    "    coords = np.argwhere(m)\n",
    "    y0, x0, y1, x1 = *np.min(coords, axis=0), *np.max(coords, axis=0)\n",
    "    return (x0, y0, x1+1, y1+1)\n",
    "\n",
    "for image in tqdm(images):\n",
    "    im = Image.open(image)\n",
    "    im2 = im.crop(bbox(im))\n",
    "    im2.save(image, quality=95)"
   ]
  },
  {
   "cell_type": "code",
   "execution_count": 34,
   "metadata": {},
   "outputs": [
    {
     "name": "stderr",
     "output_type": "stream",
     "text": [
      "100%|████████████████████████████████████████████████████████████████████████████████| 830/830 [08:29<00:00,  1.63it/s]\n"
     ]
    }
   ],
   "source": [
    "## Add paddings to the image to resize to proportional dimensions\n",
    "def add_margin(pil_img, top, right, bottom, left, color):\n",
    "    width, height = pil_img.size\n",
    "    new_width = width + right + left\n",
    "    new_height = height + top + bottom\n",
    "    result = Image.new(pil_img.mode, (new_width, new_height), color)\n",
    "    result.paste(pil_img, (left, top))\n",
    "    return result\n",
    "\n",
    "wingspan = pd.read_csv(\"wingspan.csv\")\n",
    "\n",
    "for image in tqdm(images):\n",
    "    for index, row in wingspan.iterrows():\n",
    "        if row['name'] in image:\n",
    "            length = row['length']\n",
    "            total_padding = (14.36-length)\n",
    "            padding = total_padding/2\n",
    "            im = Image.open(image)\n",
    "            width = im.size[0]\n",
    "            add_pixels = round(padding*(width/length))\n",
    "            im_new = add_margin(im, add_pixels, add_pixels, add_pixels, add_pixels, (255, 255, 255))\n",
    "            im_new.save(image, quality=95)"
   ]
  },
  {
   "cell_type": "code",
   "execution_count": null,
   "metadata": {},
   "outputs": [],
   "source": []
  }
 ],
 "metadata": {
  "kernelspec": {
   "display_name": "Python 3",
   "language": "python",
   "name": "python3"
  },
  "language_info": {
   "codemirror_mode": {
    "name": "ipython",
    "version": 3
   },
   "file_extension": ".py",
   "mimetype": "text/x-python",
   "name": "python",
   "nbconvert_exporter": "python",
   "pygments_lexer": "ipython3",
   "version": "3.8.3"
  }
 },
 "nbformat": 4,
 "nbformat_minor": 4
}
